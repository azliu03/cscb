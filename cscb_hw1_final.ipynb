{
 "cells": [
  {
   "cell_type": "markdown",
   "id": "3b0c7079-6179-421c-85e4-17b6353802f7",
   "metadata": {},
   "source": [
    "# **Running Lecture 4 Codes.**"
   ]
  },
  {
   "cell_type": "markdown",
   "id": "db7f8070-fa31-418d-b79f-9473dbe37568",
   "metadata": {},
   "source": [
    "Put these into windows terminal:\n",
    "\n",
    "Install:\n",
    "!pip install scanpy scipy umap-learn leidenalg\n",
    "\n",
    "Data Files:\n",
    "!curl https://cf.10xgenomics.com/samples/cell-exp/3.0.0/pbmc_10k_v3/pbmc_10k_v3_filtered_feature_bc_matrix.h5 -o pbmc_10k_v3_filtered_feature_bc_matrix.h5\n",
    "!curl https://cf.10xgenomics.com/samples/cell-exp/6.1.0/20k_PBMC_3p_HT_nextgem_Chromium_X/20k_PBMC_3p_HT_nextgem_Chromium_X_filtered_feature_bc_matrix.h5 -o 20k_PBMC_3p_HT_nextgem_Chromium_X_filtered_feature_bc_matrix.h5"
   ]
  },
  {
   "cell_type": "code",
   "execution_count": 5,
   "id": "13bc44a8-70fc-44fc-bfc1-fed4a0102fee",
   "metadata": {},
   "outputs": [
    {
     "name": "stdout",
     "output_type": "stream",
     "text": [
      "scanpy==1.10.4 anndata==0.11.3 umap==0.5.7 numpy==1.26.4 scipy==1.13.1 pandas==2.2.2 scikit-learn==1.5.1 statsmodels==0.14.2 pynndescent==0.5.13\n",
      "AnnData object with n_obs × n_vars = 11769 × 33538\n",
      "    var: 'gene_ids', 'feature_types', 'genome'\n"
     ]
    },
    {
     "data": {
      "text/plain": [
       "anndata._core.anndata.AnnData"
      ]
     },
     "execution_count": 5,
     "metadata": {},
     "output_type": "execute_result"
    }
   ],
   "source": [
    "import scanpy as sc\n",
    "import numpy as np\n",
    "import pandas as pd\n",
    "import matplotlib.pyplot as plt\n",
    "import warnings\n",
    "warnings.filterwarnings('ignore')\n",
    "plt.rcParams['figure.dpi'] = 300\n",
    "sc.logging.print_header()\n",
    "\n",
    "ad10f = sc.read_10x_h5(\"hw1_data/pbmc_10k_v3_filtered_feature_bc_matrix.h5\")\n",
    "print(ad10f)\n",
    "ad10f.shape\n",
    "type(ad10f)\n"
   ]
  },
  {
   "cell_type": "markdown",
   "id": "f8909a0f-ba50-45c0-96a9-1c49043495a9",
   "metadata": {},
   "source": [
    "Slicing or subsetting: randomly select a subset of cells and genes."
   ]
  },
  {
   "cell_type": "code",
   "execution_count": 7,
   "id": "24143b39-2bba-40ad-9e0c-6809e0ed25b6",
   "metadata": {},
   "outputs": [
    {
     "name": "stdout",
     "output_type": "stream",
     "text": [
      "['AAGGTAATCTATCGCC-1' 'TGGGCGTCACCTGCTT-1' 'TAATTCCGTCGCATGC-1']\n",
      "['DGKZ' 'ACBD4' 'ZNF785' 'AC092910.3']\n"
     ]
    },
    {
     "data": {
      "text/plain": [
       "View of AnnData object with n_obs × n_vars = 3 × 33538\n",
       "    var: 'gene_ids', 'feature_types', 'genome'"
      ]
     },
     "execution_count": 7,
     "metadata": {},
     "output_type": "execute_result"
    }
   ],
   "source": [
    "ncells = 3\n",
    "ngenes = 4\n",
    "randGenes = np.random.choice(ad10f.var_names, size=ngenes, replace=False)\n",
    "randCells = np.random.choice(ad10f.obs_names, size=ncells, replace=False)\n",
    "print(randCells)\n",
    "print(randGenes)\n",
    "newAnndata = ad10f[ randCells ]\n",
    "newAnndata"
   ]
  },
  {
   "cell_type": "markdown",
   "id": "1b3ae2f0-03f7-43d0-a69a-6516b7f1d196",
   "metadata": {},
   "source": [
    "Account for errors in data processing that state a cell is expressing the same gene more than once. Scanpy doesn't like this error and can only reindex uniquely valued Index objects."
   ]
  },
  {
   "cell_type": "code",
   "execution_count": null,
   "id": "25969a6e-3a32-4fe8-8a1f-9398525d7f0d",
   "metadata": {},
   "outputs": [],
   "source": []
  }
 ],
 "metadata": {
  "kernelspec": {
   "display_name": "Python [conda env:base] *",
   "language": "python",
   "name": "conda-base-py"
  },
  "language_info": {
   "codemirror_mode": {
    "name": "ipython",
    "version": 3
   },
   "file_extension": ".py",
   "mimetype": "text/x-python",
   "name": "python",
   "nbconvert_exporter": "python",
   "pygments_lexer": "ipython3",
   "version": "3.12.7"
  }
 },
 "nbformat": 4,
 "nbformat_minor": 5
}
