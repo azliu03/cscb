{
 "cells": [
  {
   "cell_type": "code",
   "execution_count": 5,
   "id": "690cd5e3-bb8e-488b-b9e9-aec53964bac7",
   "metadata": {},
   "outputs": [
    {
     "name": "stdout",
     "output_type": "stream",
     "text": [
      "['C:\\\\Users\\\\music\\\\OneDrive - Johns Hopkins\\\\Documents\\\\Johns Hopkins- Senior Year\\\\Comp Stem Cell Bio', 'C:\\\\Users\\\\music\\\\anaconda3\\\\python312.zip', 'C:\\\\Users\\\\music\\\\anaconda3\\\\DLLs', 'C:\\\\Users\\\\music\\\\anaconda3\\\\Lib', 'C:\\\\Users\\\\music\\\\anaconda3', '', 'C:\\\\Users\\\\music\\\\anaconda3\\\\Lib\\\\site-packages', 'C:\\\\Users\\\\music\\\\anaconda3\\\\Lib\\\\site-packages\\\\win32', 'C:\\\\Users\\\\music\\\\anaconda3\\\\Lib\\\\site-packages\\\\win32\\\\lib', 'C:\\\\Users\\\\music\\\\anaconda3\\\\Lib\\\\site-packages\\\\Pythonwin', 'C:\\\\Users\\\\music\\\\anaconda3\\\\Lib\\\\site-packages\\\\setuptools\\\\_vendor']\n"
     ]
    }
   ],
   "source": [
    "import sys\n",
    "print(sys.path)"
   ]
  },
  {
   "cell_type": "code",
   "execution_count": 7,
   "id": "52065b16-7558-4b5f-927b-3999e03e5099",
   "metadata": {},
   "outputs": [
    {
     "name": "stdout",
     "output_type": "stream",
     "text": [
      "Collecting scanpy\n",
      "  Downloading scanpy-1.10.4-py3-none-any.whl.metadata (9.3 kB)\n",
      "Collecting anndata>=0.8 (from scanpy)\n",
      "  Downloading anndata-0.11.3-py3-none-any.whl.metadata (8.2 kB)\n",
      "Requirement already satisfied: h5py>=3.6 in c:\\users\\music\\anaconda3\\lib\\site-packages (from scanpy) (3.11.0)\n",
      "Requirement already satisfied: joblib in c:\\users\\music\\anaconda3\\lib\\site-packages (from scanpy) (1.4.2)\n",
      "Collecting legacy-api-wrap>=1.4 (from scanpy)\n",
      "  Downloading legacy_api_wrap-1.4.1-py3-none-any.whl.metadata (2.1 kB)\n",
      "Requirement already satisfied: matplotlib>=3.6 in c:\\users\\music\\anaconda3\\lib\\site-packages (from scanpy) (3.9.2)\n",
      "Collecting natsort (from scanpy)\n",
      "  Downloading natsort-8.4.0-py3-none-any.whl.metadata (21 kB)\n",
      "Requirement already satisfied: networkx>=2.7 in c:\\users\\music\\anaconda3\\lib\\site-packages (from scanpy) (3.3)\n",
      "Requirement already satisfied: numba>=0.56 in c:\\users\\music\\anaconda3\\lib\\site-packages (from scanpy) (0.60.0)\n",
      "Requirement already satisfied: numpy>=1.23 in c:\\users\\music\\anaconda3\\lib\\site-packages (from scanpy) (1.26.4)\n",
      "Requirement already satisfied: packaging>=21.3 in c:\\users\\music\\anaconda3\\lib\\site-packages (from scanpy) (24.1)\n",
      "Requirement already satisfied: pandas>=1.5 in c:\\users\\music\\anaconda3\\lib\\site-packages (from scanpy) (2.2.2)\n",
      "Requirement already satisfied: patsy!=1.0.0 in c:\\users\\music\\anaconda3\\lib\\site-packages (from scanpy) (0.5.6)\n",
      "Collecting pynndescent>=0.5 (from scanpy)\n",
      "  Downloading pynndescent-0.5.13-py3-none-any.whl.metadata (6.8 kB)\n",
      "Requirement already satisfied: scikit-learn>=1.1 in c:\\users\\music\\anaconda3\\lib\\site-packages (from scanpy) (1.5.1)\n",
      "Requirement already satisfied: scipy>=1.8 in c:\\users\\music\\anaconda3\\lib\\site-packages (from scanpy) (1.13.1)\n",
      "Requirement already satisfied: seaborn>=0.13 in c:\\users\\music\\anaconda3\\lib\\site-packages (from scanpy) (0.13.2)\n",
      "Collecting session-info (from scanpy)\n",
      "  Downloading session_info-1.0.0.tar.gz (24 kB)\n",
      "  Preparing metadata (setup.py): started\n",
      "  Preparing metadata (setup.py): finished with status 'done'\n",
      "Requirement already satisfied: statsmodels>=0.13 in c:\\users\\music\\anaconda3\\lib\\site-packages (from scanpy) (0.14.2)\n",
      "Requirement already satisfied: tqdm in c:\\users\\music\\anaconda3\\lib\\site-packages (from scanpy) (4.66.5)\n",
      "Collecting umap-learn!=0.5.0,>=0.5 (from scanpy)\n",
      "  Downloading umap_learn-0.5.7-py3-none-any.whl.metadata (21 kB)\n",
      "Collecting array-api-compat!=1.5,>1.4 (from anndata>=0.8->scanpy)\n",
      "  Downloading array_api_compat-1.10.0-py3-none-any.whl.metadata (1.6 kB)\n",
      "Requirement already satisfied: contourpy>=1.0.1 in c:\\users\\music\\anaconda3\\lib\\site-packages (from matplotlib>=3.6->scanpy) (1.2.0)\n",
      "Requirement already satisfied: cycler>=0.10 in c:\\users\\music\\anaconda3\\lib\\site-packages (from matplotlib>=3.6->scanpy) (0.11.0)\n",
      "Requirement already satisfied: fonttools>=4.22.0 in c:\\users\\music\\anaconda3\\lib\\site-packages (from matplotlib>=3.6->scanpy) (4.51.0)\n",
      "Requirement already satisfied: kiwisolver>=1.3.1 in c:\\users\\music\\anaconda3\\lib\\site-packages (from matplotlib>=3.6->scanpy) (1.4.4)\n",
      "Requirement already satisfied: pillow>=8 in c:\\users\\music\\anaconda3\\lib\\site-packages (from matplotlib>=3.6->scanpy) (10.4.0)\n",
      "Requirement already satisfied: pyparsing>=2.3.1 in c:\\users\\music\\anaconda3\\lib\\site-packages (from matplotlib>=3.6->scanpy) (3.1.2)\n",
      "Requirement already satisfied: python-dateutil>=2.7 in c:\\users\\music\\anaconda3\\lib\\site-packages (from matplotlib>=3.6->scanpy) (2.9.0.post0)\n",
      "Requirement already satisfied: llvmlite<0.44,>=0.43.0dev0 in c:\\users\\music\\anaconda3\\lib\\site-packages (from numba>=0.56->scanpy) (0.43.0)\n",
      "Requirement already satisfied: pytz>=2020.1 in c:\\users\\music\\anaconda3\\lib\\site-packages (from pandas>=1.5->scanpy) (2024.1)\n",
      "Requirement already satisfied: tzdata>=2022.7 in c:\\users\\music\\anaconda3\\lib\\site-packages (from pandas>=1.5->scanpy) (2023.3)\n",
      "Requirement already satisfied: six in c:\\users\\music\\anaconda3\\lib\\site-packages (from patsy!=1.0.0->scanpy) (1.16.0)\n",
      "Requirement already satisfied: threadpoolctl>=3.1.0 in c:\\users\\music\\anaconda3\\lib\\site-packages (from scikit-learn>=1.1->scanpy) (3.5.0)\n",
      "Collecting stdlib_list (from session-info->scanpy)\n",
      "  Downloading stdlib_list-0.11.0-py3-none-any.whl.metadata (3.3 kB)\n",
      "Requirement already satisfied: colorama in c:\\users\\music\\anaconda3\\lib\\site-packages (from tqdm->scanpy) (0.4.6)\n",
      "Downloading scanpy-1.10.4-py3-none-any.whl (2.1 MB)\n",
      "   ---------------------------------------- 0.0/2.1 MB ? eta -:--:--\n",
      "   ---------------------------------------- 2.1/2.1 MB 16.7 MB/s eta 0:00:00\n",
      "Downloading anndata-0.11.3-py3-none-any.whl (142 kB)\n",
      "Downloading legacy_api_wrap-1.4.1-py3-none-any.whl (10.0 kB)\n",
      "Downloading pynndescent-0.5.13-py3-none-any.whl (56 kB)\n",
      "Downloading umap_learn-0.5.7-py3-none-any.whl (88 kB)\n",
      "Downloading natsort-8.4.0-py3-none-any.whl (38 kB)\n",
      "Downloading array_api_compat-1.10.0-py3-none-any.whl (50 kB)\n",
      "Downloading stdlib_list-0.11.0-py3-none-any.whl (83 kB)\n",
      "Building wheels for collected packages: session-info\n",
      "  Building wheel for session-info (setup.py): started\n",
      "  Building wheel for session-info (setup.py): finished with status 'done'\n",
      "  Created wheel for session-info: filename=session_info-1.0.0-py3-none-any.whl size=8072 sha256=60f13a1ec335021903ce35a374586ceb3217274b2d4c48abd50a0078bffd2f94\n",
      "  Stored in directory: c:\\users\\music\\appdata\\local\\pip\\cache\\wheels\\23\\da\\7c\\868424f4a5845ab58cd8686e0eb405e9e1e2d4152bf702c39d\n",
      "Successfully built session-info\n",
      "Installing collected packages: stdlib_list, natsort, legacy-api-wrap, array-api-compat, session-info, pynndescent, anndata, umap-learn, scanpy\n",
      "Successfully installed anndata-0.11.3 array-api-compat-1.10.0 legacy-api-wrap-1.4.1 natsort-8.4.0 pynndescent-0.5.13 scanpy-1.10.4 session-info-1.0.0 stdlib_list-0.11.0 umap-learn-0.5.7\n"
     ]
    }
   ],
   "source": [
    "!pip install scanpy\n",
    "\n",
    "import numpy as np\n",
    "import scanpy as sc\n",
    "import seaborn as sns\n",
    "from scipy.stats import median_abs_deviation\n",
    "\n",
    "sc.settings.verbosity = 0\n",
    "sc.settings.set_figure_params(\n",
    "    dpi=80,\n",
    "    facecolor=\"white\",\n",
    "    frameon=False,\n",
    ")"
   ]
  },
  {
   "cell_type": "code",
   "execution_count": null,
   "id": "78788c41-e643-438f-815e-a36b9ead57b6",
   "metadata": {},
   "outputs": [],
   "source": []
  }
 ],
 "metadata": {
  "kernelspec": {
   "display_name": "Python [conda env:base] *",
   "language": "python",
   "name": "conda-base-py"
  },
  "language_info": {
   "codemirror_mode": {
    "name": "ipython",
    "version": 3
   },
   "file_extension": ".py",
   "mimetype": "text/x-python",
   "name": "python",
   "nbconvert_exporter": "python",
   "pygments_lexer": "ipython3",
   "version": "3.12.7"
  }
 },
 "nbformat": 4,
 "nbformat_minor": 5
}
