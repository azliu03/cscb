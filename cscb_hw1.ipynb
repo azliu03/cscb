{
 "cells": [
  {
   "cell_type": "markdown",
   "id": "9aff2910-0454-42c4-9940-a53d00fc0a34",
   "metadata": {},
   "source": [
    "Load Scanpy packages.\n",
    "\n",
    "Notes: \n",
    "- Scanpy is a scalable toolkit for analyzing single-cell gene expression data built jointly with anndata. It includes preprocessing, visualization, clustering, trajectory inference and differential expression testing. The Python-based implementation efficiently deals with datasets of more than one million cells.\n",
    "- AnnData is a Python package that defines a data structure designed to efficiently store large data sets like scRNA-seq."
   ]
  },
  {
   "cell_type": "code",
   "execution_count": 26,
   "id": "0c590ddd-0ea5-46c8-85b5-db0131334130",
   "metadata": {},
   "outputs": [
    {
     "name": "stdout",
     "output_type": "stream",
     "text": [
      "scanpy==1.10.4 anndata==0.11.3 umap==0.5.7 numpy==1.26.4 scipy==1.13.1 pandas==2.2.2 scikit-learn==1.5.1 statsmodels==0.14.2 pynndescent==0.5.13\n"
     ]
    }
   ],
   "source": [
    "import scanpy as sc\n",
    "import numpy as np\n",
    "import pandas as pd\n",
    "import matplotlib.pyplot as plt\n",
    "import warnings\n",
    "warnings.filterwarnings('ignore')\n",
    "plt.rcParams['figure.dpi'] = 300\n",
    "sc.logging.print_header()"
   ]
  },
  {
   "cell_type": "markdown",
   "id": "ba1e62a9-e1c2-4288-bc69-c8ba4165178b",
   "metadata": {},
   "source": [
    "Confirm current working directory."
   ]
  },
  {
   "cell_type": "code",
   "execution_count": 29,
   "id": "2c87420a-5a22-4427-bde8-cca76c207dcd",
   "metadata": {},
   "outputs": [
    {
     "name": "stdout",
     "output_type": "stream",
     "text": [
      "Current Working Directory: C:\\Users\\music\\OneDrive - Johns Hopkins\\Documents\\Johns Hopkins- Senior Year\\Comp Stem Cell Bio\\cscb\n"
     ]
    }
   ],
   "source": [
    "import os\n",
    "print(\"Current Working Directory:\", os.getcwd())"
   ]
  },
  {
   "cell_type": "markdown",
   "id": "6bb96ca1-14b4-4426-813c-68f70881eb14",
   "metadata": {},
   "source": [
    "Load Sample 1. \n",
    "\n",
    "Notes:\n",
    "- sc.read_10x_h5 function reads the 10x-Genomics-formatted hd5 file and returns an annotated data matrix where cells are named by their barcode and genes by their gene name."
   ]
  },
  {
   "cell_type": "code",
   "execution_count": 34,
   "id": "ff2f6201-f574-437c-88cf-f0b56e99d6c5",
   "metadata": {},
   "outputs": [
    {
     "name": "stdout",
     "output_type": "stream",
     "text": [
      "AnnData object with n_obs × n_vars = 11769 × 33538\n",
      "    var: 'gene_ids', 'feature_types', 'genome'\n"
     ]
    },
    {
     "data": {
      "text/plain": [
       "anndata._core.anndata.AnnData"
      ]
     },
     "execution_count": 34,
     "metadata": {},
     "output_type": "execute_result"
    }
   ],
   "source": [
    "ad10f = sc.read_10x_h5(\"hw1_data/pbmc_10k_v3_filtered_feature_bc_matrix.h5\")\n",
    "print(ad10f)\n",
    "type(ad10f)"
   ]
  },
  {
   "cell_type": "code",
   "execution_count": 36,
   "id": "6c34aa8d-033b-4fdf-95f2-8ad10732a7d2",
   "metadata": {},
   "outputs": [
    {
     "data": {
      "text/plain": [
       "(11769, 33538)"
      ]
     },
     "execution_count": 36,
     "metadata": {},
     "output_type": "execute_result"
    }
   ],
   "source": [
    "ad10f.shape"
   ]
  },
  {
   "cell_type": "code",
   "execution_count": 40,
   "id": "403dd728-65e0-4e9c-936b-920779ba618b",
   "metadata": {},
   "outputs": [
    {
     "name": "stdout",
     "output_type": "stream",
     "text": [
      "Index([], dtype='object')\n",
      "['TACCCACTCCACGTAA-1' 'TCCATCGTCCCGAACG-1' 'GCAGCCACAGACAATA-1']\n",
      "['GINM1' 'AL109610.1' 'GALT' 'SPOPL']\n"
     ]
    }
   ],
   "source": [
    "#confirm .obs is empty and no metadata has been added yet\n",
    "print(ad10f.obs.columns)\n",
    "\n",
    "ncells = 3\n",
    "ngenes = 4\n",
    "randGenes = np.random.choice(ad10f.var_names, size=ngenes, replace=False)\n",
    "randCells = np.random.choice(ad10f.obs_names, size=ncells, replace=False)\n",
    "print(randCells)\n",
    "print(randGenes)"
   ]
  },
  {
   "cell_type": "code",
   "execution_count": 42,
   "id": "6054974a-d54f-4a0c-8398-0190ceeb3d73",
   "metadata": {},
   "outputs": [
    {
     "data": {
      "text/plain": [
       "View of AnnData object with n_obs × n_vars = 3 × 4\n",
       "    var: 'gene_ids', 'feature_types', 'genome'"
      ]
     },
     "execution_count": 42,
     "metadata": {},
     "output_type": "execute_result"
    }
   ],
   "source": [
    "#Reindexing only valid with uniquely valued Index objects so make unique.\n",
    "\n",
    "gname_counts = ad10f.var_names.value_counts()\n",
    "\n",
    "np.any(gname_counts>1)\n",
    "duplicates = gname_counts[gname_counts > 1]\n",
    "\n",
    "ad10f.var_names_make_unique()\n",
    "ad10f[:, randGenes ]\n",
    "ad10f[randCells, randGenes ]"
   ]
  },
  {
   "cell_type": "code",
   "execution_count": 44,
   "id": "db73671e-c1d4-490d-aed7-2f38a003ccb5",
   "metadata": {},
   "outputs": [
    {
     "name": "stdout",
     "output_type": "stream",
     "text": [
      "                    gene_ids    feature_types  genome\n",
      "MIR1302-2HG  ENSG00000243485  Gene Expression  GRCh38\n",
      "FAM138A      ENSG00000237613  Gene Expression  GRCh38\n",
      "OR4F5        ENSG00000186092  Gene Expression  GRCh38\n",
      "AL627309.1   ENSG00000238009  Gene Expression  GRCh38\n",
      "AL627309.3   ENSG00000239945  Gene Expression  GRCh38\n"
     ]
    }
   ],
   "source": [
    "# View first few rows of gene metadata\n",
    "print(ad10f.var.head())"
   ]
  },
  {
   "cell_type": "code",
   "execution_count": 46,
   "id": "4815982d-0c2e-4cc8-b8a3-deaf67e07a59",
   "metadata": {},
   "outputs": [
    {
     "name": "stdout",
     "output_type": "stream",
     "text": [
      "Index(['sample_name'], dtype='object')\n",
      "                   sample_name\n",
      "TACCCACTCCACGTAA-1    sample_1\n",
      "TCCATCGTCCCGAACG-1    sample_1\n",
      "GCAGCCACAGACAATA-1    sample_1\n"
     ]
    }
   ],
   "source": [
    "ad10f.obs['sample_name'] = \"sample_1\"\n",
    "print(ad10f.obs.columns)\n",
    "print(ad10f[randCells].obs)"
   ]
  },
  {
   "cell_type": "code",
   "execution_count": 48,
   "id": "102d2a9d-fa36-4923-a3f8-d246c8fa1126",
   "metadata": {},
   "outputs": [
    {
     "name": "stdout",
     "output_type": "stream",
     "text": [
      "Index(['gene_ids', 'feature_types', 'genome'], dtype='object')\n",
      "                   gene_ids    feature_types  genome\n",
      "GINM1       ENSG00000055211  Gene Expression  GRCh38\n",
      "AL109610.1  ENSG00000225785  Gene Expression  GRCh38\n",
      "GALT        ENSG00000213930  Gene Expression  GRCh38\n",
      "SPOPL       ENSG00000144228  Gene Expression  GRCh38\n"
     ]
    }
   ],
   "source": [
    "\n",
    "ad10f[randCells, randGenes ].X\n",
    "\n",
    "print(ad10f.var.columns)\n",
    "print(ad10f[:,randGenes].var)"
   ]
  },
  {
   "cell_type": "code",
   "execution_count": 50,
   "id": "53643a69-4265-422d-a636-86320436be6a",
   "metadata": {},
   "outputs": [
    {
     "name": "stdout",
     "output_type": "stream",
     "text": [
      "                   gene_ids    feature_types  genome\n",
      "GINM1       ENSG00000055211  Gene Expression  GRCh38\n",
      "AL109610.1  ENSG00000225785  Gene Expression  GRCh38\n",
      "GALT        ENSG00000213930  Gene Expression  GRCh38\n",
      "SPOPL       ENSG00000144228  Gene Expression  GRCh38\n"
     ]
    }
   ],
   "source": [
    "# .obs and .var are Pandas dataframes that can be accessed with .loc and .iloc\n",
    "print(ad10f.var.loc[randGenes])"
   ]
  },
  {
   "cell_type": "markdown",
   "id": "d0bd5658-39d7-42d2-87b5-0e6ad5b13589",
   "metadata": {},
   "source": [
    "1. What is the cell type of composition of PBMCs of Sample 1?\n",
    "\n",
    "Make a new .obs column indicating cell type."
   ]
  },
  {
   "cell_type": "code",
   "execution_count": null,
   "id": "00aa5d32-61ed-4a1b-bb71-2068041cfaa9",
   "metadata": {},
   "outputs": [],
   "source": [
    "#indexes of .obs are cell barcodes\n",
    "print(ad10f.obs.index[:5]) "
   ]
  },
  {
   "cell_type": "code",
   "execution_count": 54,
   "id": "add5ffce-f8a9-41c1-bb75-2cd837fc945a",
   "metadata": {},
   "outputs": [
    {
     "name": "stdout",
     "output_type": "stream",
     "text": [
      "Genes Found: ['CD3D', 'CD14', 'LYZ', 'MS4A1', 'GNLY', 'NKG7', 'KLRC1']\n",
      "Genes Missing: ['NKG2A']\n"
     ]
    }
   ],
   "source": [
    "#double checking which marker genes are in the ad10f .var\n",
    "marker_genes_test = [\"CD3D\", \"CD14\", \"LYZ\", \"MS4A1\", \"GNLY\", \"NKG7\", \"KLRC1\", \"NKG2A\"]\n",
    "\n",
    "# Check which markers are in the dataset\n",
    "genes_present = [gene for gene in marker_genes_test if gene in ad10f.var_names]\n",
    "genes_missing = [gene for gene in marker_genes_test if gene not in ad10f.var_names]\n",
    "\n",
    "print(f\"Genes Found: {genes_present}\")\n",
    "print(f\"Genes Missing: {genes_missing}\")\n"
   ]
  },
  {
   "cell_type": "code",
   "execution_count": 56,
   "id": "40c611ef-d493-42fd-adca-0c64c7370770",
   "metadata": {},
   "outputs": [
    {
     "name": "stdout",
     "output_type": "stream",
     "text": [
      "cell_type\n",
      "T Cells            4720\n",
      "Monocytes          4655\n",
      "B Cells            1629\n",
      "NK Cells            747\n",
      "Dendritic Cells      18\n",
      "Name: count, dtype: int64\n"
     ]
    }
   ],
   "source": [
    "#Dictionary of marker genes\n",
    "marker_genes = {\n",
    "    \"Monocytes\": [\"LYZ\", \"CD14\", \"CD68\", \"S100A8\", \"S100A9\", \"CCR2\", \"FCGR3A\", \"CD16\", \"CD163\", \"IL1B\", \"CX3CR1\", \"CCR5\"],\n",
    "    \"NK Cells\": [\"NCAM1\", \"KIR2DL1\", \"KIR2DL4\", \"KIR3DL1\", \"KIR3DL2\", \"KLRC1\", \"KLRC2\", \"KLRC3\", \"KLRK1\", \"GNLY\", \"GZMB\"],\n",
    "    \"B Cells\": [\"CD19\", \"CD79A\", \"CD79B\", \"CD20\"],\n",
    "    \"T Cells\": [\"CD3D\", \"CD3E\", \"CD3G\"],\n",
    "    \"Dendritic Cells\": [\"FLT3\", \"CD11C\", \"CD1C\", \"CD123\", \"CLEC4C\"]\n",
    "}\n",
    "#Initialize a new .obs column for cell type\n",
    "ad10f.obs['cell_type'] = \"Unknown\"\n",
    "\n",
    "cell_scores = {}\n",
    "\n",
    "#Assign cells based on marker expression\n",
    "for cell_type, genes in marker_genes.items():\n",
    "    # Filter for marker genes that exist in the dataset\n",
    "    present_genes = [gene for gene in genes if gene in ad10f.var_names]\n",
    "    \n",
    "    if present_genes:  # If any marker genes exist in the dataset\n",
    "        # Compute mean expression per cell for these markers\n",
    "        mean_expression = np.mean(ad10f[:, present_genes].X.toarray(), axis=1)\n",
    "        \n",
    "        # Store the mean expression score\n",
    "        cell_scores[cell_type] = mean_expression\n",
    "\n",
    "# Convert the cell_scores dictionary into a DataFrame\n",
    "cell_scores_df = pd.DataFrame(cell_scores, index=ad10f.obs.index)\n",
    "\n",
    "# Assign each cell to the cell type with the highest expression score\n",
    "ad10f.obs[\"cell_type\"] = cell_scores_df.idxmax(axis=1)\n",
    "\n",
    "# Check the number of cells assigned to each type\n",
    "print(ad10f.obs[\"cell_type\"].value_counts())"
   ]
  },
  {
   "cell_type": "code",
   "execution_count": null,
   "id": "191fbea2-ea4c-44a8-aa9b-af46ec2d0a5c",
   "metadata": {},
   "outputs": [],
   "source": []
  }
 ],
 "metadata": {
  "kernelspec": {
   "display_name": "Python [conda env:base] *",
   "language": "python",
   "name": "conda-base-py"
  },
  "language_info": {
   "codemirror_mode": {
    "name": "ipython",
    "version": 3
   },
   "file_extension": ".py",
   "mimetype": "text/x-python",
   "name": "python",
   "nbconvert_exporter": "python",
   "pygments_lexer": "ipython3",
   "version": "3.12.7"
  }
 },
 "nbformat": 4,
 "nbformat_minor": 5
}
