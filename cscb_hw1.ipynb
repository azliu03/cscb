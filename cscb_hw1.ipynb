{
 "cells": [
  {
   "cell_type": "markdown",
   "id": "9aff2910-0454-42c4-9940-a53d00fc0a34",
   "metadata": {},
   "source": [
    "Load Scanpy packages.\n",
    "\n",
    "Notes: \n",
    "- Scanpy is a scalable toolkit for analyzing single-cell gene expression data built jointly with anndata. It includes preprocessing, visualization, clustering, trajectory inference and differential expression testing. The Python-based implementation efficiently deals with datasets of more than one million cells.\n",
    "- AnnData is a Python package that defines a data structure designed to efficiently store large data sets like scRNA-seq."
   ]
  },
  {
   "cell_type": "code",
   "execution_count": 6,
   "id": "0c590ddd-0ea5-46c8-85b5-db0131334130",
   "metadata": {},
   "outputs": [
    {
     "name": "stdout",
     "output_type": "stream",
     "text": [
      "scanpy==1.10.4 anndata==0.11.3 umap==0.5.7 numpy==1.26.4 scipy==1.13.1 pandas==2.2.2 scikit-learn==1.5.1 statsmodels==0.14.2 pynndescent==0.5.13\n"
     ]
    }
   ],
   "source": [
    "import scanpy as sc\n",
    "import numpy as np\n",
    "import pandas as pd\n",
    "import matplotlib.pyplot as plt\n",
    "import warnings\n",
    "warnings.filterwarnings('ignore')\n",
    "plt.rcParams['figure.dpi'] = 300\n",
    "sc.logging.print_header()"
   ]
  },
  {
   "cell_type": "markdown",
   "id": "ba1e62a9-e1c2-4288-bc69-c8ba4165178b",
   "metadata": {},
   "source": [
    "Confirm current working directory."
   ]
  },
  {
   "cell_type": "code",
   "execution_count": 14,
   "id": "2c87420a-5a22-4427-bde8-cca76c207dcd",
   "metadata": {},
   "outputs": [
    {
     "name": "stdout",
     "output_type": "stream",
     "text": [
      "Current Working Directory: C:\\Users\\music\\OneDrive - Johns Hopkins\\Documents\\Johns Hopkins- Senior Year\\Comp Stem Cell Bio\n"
     ]
    }
   ],
   "source": [
    "import os\n",
    "print(\"Current Working Directory:\", os.getcwd())"
   ]
  },
  {
   "cell_type": "markdown",
   "id": "6bb96ca1-14b4-4426-813c-68f70881eb14",
   "metadata": {},
   "source": [
    "Load Sample 1.\n",
    "\n",
    "Notes:\n",
    "- sc.read_10x_h5 function reads the 10x-Genomics-formatted hd5 file and returns an annotated data matrix where cells are named by their barcode and genes by their gene name."
   ]
  },
  {
   "cell_type": "code",
   "execution_count": 20,
   "id": "ff2f6201-f574-437c-88cf-f0b56e99d6c5",
   "metadata": {},
   "outputs": [
    {
     "name": "stdout",
     "output_type": "stream",
     "text": [
      "AnnData object with n_obs × n_vars = 11769 × 33538\n",
      "    var: 'gene_ids', 'feature_types', 'genome'\n"
     ]
    },
    {
     "data": {
      "text/plain": [
       "anndata._core.anndata.AnnData"
      ]
     },
     "execution_count": 20,
     "metadata": {},
     "output_type": "execute_result"
    }
   ],
   "source": [
    "ad10f = sc.read_10x_h5(\"cscb/hw1_data/pbmc_10k_v3_filtered_feature_bc_matrix.h5\")\n",
    "print(ad10f)\n",
    "type(ad10f)"
   ]
  },
  {
   "cell_type": "code",
   "execution_count": 22,
   "id": "6c34aa8d-033b-4fdf-95f2-8ad10732a7d2",
   "metadata": {},
   "outputs": [
    {
     "data": {
      "text/plain": [
       "(11769, 33538)"
      ]
     },
     "execution_count": 22,
     "metadata": {},
     "output_type": "execute_result"
    }
   ],
   "source": [
    "ad10f.shape"
   ]
  },
  {
   "cell_type": "markdown",
   "id": "d0bd5658-39d7-42d2-87b5-0e6ad5b13589",
   "metadata": {},
   "source": [
    "1. What is the cell type of composition of PBMCs of Sample 1?\n",
    "\n",
    "Make a new .obs column indicating cell type."
   ]
  },
  {
   "cell_type": "code",
   "execution_count": null,
   "id": "403dd728-65e0-4e9c-936b-920779ba618b",
   "metadata": {},
   "outputs": [],
   "source": []
  }
 ],
 "metadata": {
  "kernelspec": {
   "display_name": "Python [conda env:base] *",
   "language": "python",
   "name": "conda-base-py"
  },
  "language_info": {
   "codemirror_mode": {
    "name": "ipython",
    "version": 3
   },
   "file_extension": ".py",
   "mimetype": "text/x-python",
   "name": "python",
   "nbconvert_exporter": "python",
   "pygments_lexer": "ipython3",
   "version": "3.12.7"
  }
 },
 "nbformat": 4,
 "nbformat_minor": 5
}
